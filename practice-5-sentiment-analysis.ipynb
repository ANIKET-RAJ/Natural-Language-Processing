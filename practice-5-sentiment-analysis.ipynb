{
 "cells": [
  {
   "cell_type": "code",
   "execution_count": 8,
   "metadata": {},
   "outputs": [
    {
     "name": "stdout",
     "output_type": "stream",
     "text": [
      "Great place to be when you are in Bangalore.\n",
      "neg: 0.0, neu: 0.661, pos: 0.339, compound: 0.6249, \n",
      "The place was being renovated when I visited so the seating was limited.\n",
      "neg: 0.147, neu: 0.853, pos: 0.0, compound: -0.2263, \n",
      "Loved the ambience, loved the food\n",
      "neg: 0.0, neu: 0.339, pos: 0.661, compound: 0.8316, \n",
      "The food is delicious but not over the top.\n",
      "neg: 0.168, neu: 0.623, pos: 0.209, compound: 0.1184, \n",
      "Service - Little slow, probably because too many people.\n",
      "neg: 0.0, neu: 1.0, pos: 0.0, compound: 0.0, \n",
      "The place is not easy to locate\n",
      "neg: 0.286, neu: 0.714, pos: 0.0, compound: -0.3412, \n",
      "Mushroom fried rice was tasty\n",
      "neg: 0.0, neu: 1.0, pos: 0.0, compound: 0.0, \n"
     ]
    }
   ],
   "source": [
    "import nltk\n",
    "from nltk.sentiment.vader import SentimentIntensityAnalyzer \n",
    "  \n",
    "hotel_rev = [(\"Great place to be when you are in Bangalore.\"),\n",
    "             (\"The place was being renovated when I visited so the seating was limited.\"),\n",
    "             (\"Loved the ambience, loved the food\"),\n",
    "             (\"The food is delicious but not over the top.\"),\n",
    "             (\"Service - Little slow, probably because too many people.\"),\n",
    "             (\"The place is not easy to locate\"),\n",
    "             (\"Mushroom fried rice was tasty\")\n",
    "            ]\n",
    "  \n",
    "sid = SentimentIntensityAnalyzer()\n",
    "for sentence in hotel_rev:\n",
    "     print(sentence)\n",
    "     ss = sid.polarity_scores(sentence)\n",
    "     for k in ss:\n",
    "         print('{0}: {1}, '.format(k, ss[k]), end='')\n",
    "     print()"
   ]
  },
  {
   "cell_type": "code",
   "execution_count": 1,
   "metadata": {},
   "outputs": [
    {
     "name": "stdout",
     "output_type": "stream",
     "text": [
      "pos\n"
     ]
    }
   ],
   "source": [
    "import nltk\n",
    "from nltk.tokenize import word_tokenize\n",
    "  \n",
    "# Step 1 – Training data\n",
    "train = [(\"Great place to be when you are in Bangalore.\", \"pos\"),\n",
    "  (\"The place was being renovated when I visited so the seating was limited.\", \"neg\"),\n",
    "  (\"Loved the ambience, loved the food\", \"pos\"),\n",
    "  (\"The food is delicious but not over the top.\", \"neg\"),\n",
    "  (\"Service - Little slow, probably because too many people.\", \"neg\"),\n",
    "  (\"The place is not easy to locate\", \"neg\"),\n",
    "  (\"Mushroom fried rice was spicy\", \"pos\"),\n",
    "]\n",
    "  \n",
    "# Step 2 \n",
    "dictionary = set(word.lower() for passage in train for word in word_tokenize(passage[0]))\n",
    "  \n",
    "# Step 3\n",
    "t = [({word: (word in word_tokenize(x[0])) for word in dictionary}, x[1]) for x in train]\n",
    "  \n",
    "# Step 4 – the classifier is trained with sample data\n",
    "classifier = nltk.NaiveBayesClassifier.train(t)\n",
    "  \n",
    "test_data = \"Manchurian was hot and spicy\"\n",
    "test_data_features = {word.lower(): (word in word_tokenize(test_data.lower())) for word in dictionary}\n",
    "  \n",
    "print (classifier.classify(test_data_features))"
   ]
  },
  {
   "cell_type": "code",
   "execution_count": 7,
   "metadata": {},
   "outputs": [
    {
     "name": "stdout",
     "output_type": "stream",
     "text": [
      "[nltk_data] Downloading package vader_lexicon to C:\\Users\\ANIKET\n",
      "[nltk_data]     RAJ\\AppData\\Roaming\\nltk_data...\n"
     ]
    },
    {
     "data": {
      "text/plain": [
       "True"
      ]
     },
     "execution_count": 7,
     "metadata": {},
     "output_type": "execute_result"
    }
   ],
   "source": []
  },
  {
   "cell_type": "code",
   "execution_count": null,
   "metadata": {},
   "outputs": [],
   "source": []
  }
 ],
 "metadata": {
  "kernelspec": {
   "display_name": "Python 3",
   "language": "python",
   "name": "python3"
  },
  "language_info": {
   "codemirror_mode": {
    "name": "ipython",
    "version": 3
   },
   "file_extension": ".py",
   "mimetype": "text/x-python",
   "name": "python",
   "nbconvert_exporter": "python",
   "pygments_lexer": "ipython3",
   "version": "3.6.5"
  }
 },
 "nbformat": 4,
 "nbformat_minor": 2
}
