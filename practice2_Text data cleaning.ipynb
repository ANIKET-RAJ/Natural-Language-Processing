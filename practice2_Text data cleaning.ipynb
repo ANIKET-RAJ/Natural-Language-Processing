{
 "cells": [
  {
   "cell_type": "code",
   "execution_count": 13,
   "metadata": {},
   "outputs": [],
   "source": [
    "from bs4 import BeautifulSoup\n",
    "#import nltk"
   ]
  },
  {
   "cell_type": "code",
   "execution_count": 26,
   "metadata": {},
   "outputs": [
    {
     "name": "stdout",
     "output_type": "stream",
     "text": [
      "<!DOCTYPE html><p>he 's looking ?? what stop rt </p>\n"
     ]
    }
   ],
   "source": [
    "html = \"<!DOCTYPE html><p>he 's looking ?? what stop rt </p>\"\n",
    "print (html)"
   ]
  },
  {
   "cell_type": "markdown",
   "metadata": {},
   "source": [
    "### Escaping HTML characters"
   ]
  },
  {
   "cell_type": "code",
   "execution_count": 27,
   "metadata": {},
   "outputs": [
    {
     "name": "stdout",
     "output_type": "stream",
     "text": [
      "he 's looking ?? what stop rt\n"
     ]
    }
   ],
   "source": [
    "soup = BeautifulSoup(html,\"html5lib\")\n",
    "text = soup.get_text(strip=True)\n",
    "print (text)"
   ]
  },
  {
   "cell_type": "markdown",
   "metadata": {},
   "source": [
    "### Apostrophe Lookup"
   ]
  },
  {
   "cell_type": "code",
   "execution_count": 29,
   "metadata": {},
   "outputs": [
    {
     "name": "stdout",
     "output_type": "stream",
     "text": [
      "he is looking ?? what stop rt\n"
     ]
    }
   ],
   "source": [
    "APPOSTOPHES = {\"'s\" : \"is\", \"re\" : \" are\" }\n",
    "words = text.split()\n",
    "reformed = [APPOSTOPHES[word] if word in APPOSTOPHES else word for word in words]\n",
    "reformed = \" \".join(reformed)\n",
    "print(reformed)"
   ]
  },
  {
   "cell_type": "markdown",
   "metadata": {},
   "source": [
    "#### Removal of stop-words\n",
    "#### Removal of Punctuations\n",
    "#### Removal of Expressions\n",
    "#### Split Attached Words\n",
    "#### Slangs lookup\n",
    "#### Standardizing words\n",
    "#### Removal of URLs\n",
    "#### Grammar checking, spelling correction"
   ]
  },
  {
   "cell_type": "code",
   "execution_count": null,
   "metadata": {},
   "outputs": [],
   "source": []
  }
 ],
 "metadata": {
  "kernelspec": {
   "display_name": "Python 3",
   "language": "python",
   "name": "python3"
  },
  "language_info": {
   "codemirror_mode": {
    "name": "ipython",
    "version": 3
   },
   "file_extension": ".py",
   "mimetype": "text/x-python",
   "name": "python",
   "nbconvert_exporter": "python",
   "pygments_lexer": "ipython3",
   "version": "3.6.5"
  }
 },
 "nbformat": 4,
 "nbformat_minor": 2
}
